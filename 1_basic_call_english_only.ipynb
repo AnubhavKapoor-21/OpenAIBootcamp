{
  "nbformat": 4,
  "nbformat_minor": 0,
  "metadata": {
    "colab": {
      "provenance": [],
      "authorship_tag": "ABX9TyNlBQJTSlUFbu+gD3Q7AAXG",
      "include_colab_link": true
    },
    "kernelspec": {
      "name": "python3",
      "display_name": "Python 3"
    },
    "language_info": {
      "name": "python"
    }
  },
  "cells": [
    {
      "cell_type": "markdown",
      "metadata": {
        "id": "view-in-github",
        "colab_type": "text"
      },
      "source": [
        "<a href=\"https://colab.research.google.com/github/fenago/OpenAIBootcamp/blob/main/1_basic_call_english_only.ipynb\" target=\"_parent\"><img src=\"https://colab.research.google.com/assets/colab-badge.svg\" alt=\"Open In Colab\"/></a>"
      ]
    },
    {
      "cell_type": "code",
      "execution_count": null,
      "metadata": {
        "id": "XmQ5g5di3ANr"
      },
      "outputs": [],
      "source": [
        "!git clone https://github.com/fenago/OpenAIBootcamp/\n",
        "!pip install git+https://github.com/openai/whisper.git -qqq"
      ]
    },
    {
      "cell_type": "code",
      "source": [
        "# Import necessary libraries\n",
        "import whisper\n",
        "from pathlib import Path\n",
        "\n",
        "# Load the Whisper model\n",
        "MODEL = whisper.load_model(\"medium.en\")\n",
        "\n",
        "# Define the function for transcription\n",
        "def get_transcription(audio_file: str):\n",
        "    result = MODEL.transcribe(audio_file)\n",
        "    print(result['text'])\n",
        "    return result['text']\n",
        "\n",
        "# Path to your audio file (update this to the correct path in Colab)\n",
        "audio_file = \"/content/OpenAIBootcamp/test_audio_files/terrible_quality.mp3\"\n",
        "\n",
        "# Call the transcription function\n",
        "transcription = get_transcription(audio_file)\n",
        "print(\"Transcription:\", transcription)\n"
      ],
      "metadata": {
        "id": "544wnnc2VZ57"
      },
      "execution_count": null,
      "outputs": []
    },
    {
      "cell_type": "code",
      "source": [
        "# Import necessary libraries\n",
        "import whisper\n",
        "from IPython.display import Audio, display, Markdown\n",
        "\n",
        "# Load the Whisper model\n",
        "MODEL = whisper.load_model(\"medium.en\")\n",
        "\n",
        "# Function to transcribe audio\n",
        "def get_transcription(audio_file: str):\n",
        "    result = MODEL.transcribe(audio_file)\n",
        "    transcription = result['text']\n",
        "    print(\"Transcription complete.\")\n",
        "    return transcription\n",
        "\n",
        "# Path to your audio file\n",
        "audio_file = \"OpenAIBootcamp/test_audio_files/terrible_quality.mp3\"\n",
        "\n",
        "# Play the audio in Colab\n",
        "print(\"Playing audio file:\")\n",
        "display(Audio(audio_file))\n",
        "\n",
        "# Transcribe the audio and display formatted output\n",
        "transcription = get_transcription(audio_file)\n",
        "display(Markdown(f\"### Transcription:\\n\\n{transcription}\"))\n"
      ],
      "metadata": {
        "id": "aQAFySIbXGJQ"
      },
      "execution_count": null,
      "outputs": []
    }
  ]
}